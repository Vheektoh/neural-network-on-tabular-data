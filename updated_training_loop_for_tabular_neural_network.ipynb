{
 "cells": [
  {
   "cell_type": "markdown",
   "id": "603acb1f",
   "metadata": {},
   "source": [
    "# DETECTION OF AUTISM IN TODDLERS USING MACHINE LEARNING"
   ]
  },
  {
   "cell_type": "markdown",
   "id": "8fdb9790",
   "metadata": {},
   "source": [
    "### IMPORTING REQUIRED LIBRARIES"
   ]
  },
  {
   "cell_type": "code",
   "execution_count": 1,
   "id": "bc74c993",
   "metadata": {},
   "outputs": [],
   "source": [
    "import pandas as pd\n",
    "import numpy as np\n",
    "import matplotlib.pyplot as plt\n",
    "import seaborn as sns\n",
    "import random\n",
    "from sklearn.model_selection import train_test_split, KFold, cross_val_score\n",
    "from sklearn.metrics import accuracy_score, classification_report, confusion_matrix, roc_auc_score, roc_curve, auc\n",
    "from sklearn.pipeline import Pipeline\n",
    "from imblearn.over_sampling import SMOTE\n",
    "from sklearn.preprocessing import StandardScaler, LabelEncoder\n",
    "from sklearn.linear_model import LogisticRegression\n",
    "from sklearn.ensemble import RandomForestClassifier\n",
    "from scipy.stats import norm\n",
    "import warnings\n",
    "import time\n",
    "warnings.filterwarnings(\"ignore\")"
   ]
  },
  {
   "cell_type": "code",
   "execution_count": 2,
   "id": "32c0bcc6",
   "metadata": {},
   "outputs": [],
   "source": [
    "dataset = pd.read_csv(\"Qchat_Full_Polish_Cleaned.csv\")"
   ]
  },
  {
   "cell_type": "code",
   "execution_count": 3,
   "id": "73e2f213",
   "metadata": {},
   "outputs": [
    {
     "data": {
      "text/html": [
       "<div>\n",
       "<style scoped>\n",
       "    .dataframe tbody tr th:only-of-type {\n",
       "        vertical-align: middle;\n",
       "    }\n",
       "\n",
       "    .dataframe tbody tr th {\n",
       "        vertical-align: top;\n",
       "    }\n",
       "\n",
       "    .dataframe thead th {\n",
       "        text-align: right;\n",
       "    }\n",
       "</style>\n",
       "<table border=\"1\" class=\"dataframe\">\n",
       "  <thead>\n",
       "    <tr style=\"text-align: right;\">\n",
       "      <th></th>\n",
       "      <th>child_ID</th>\n",
       "      <th>sex</th>\n",
       "      <th>age</th>\n",
       "      <th>group</th>\n",
       "      <th>asd_risk</th>\n",
       "      <th>sum_qchat</th>\n",
       "      <th>Q01</th>\n",
       "      <th>Q02</th>\n",
       "      <th>Q03</th>\n",
       "      <th>Q04</th>\n",
       "      <th>...</th>\n",
       "      <th>Q16</th>\n",
       "      <th>Q17</th>\n",
       "      <th>Q18</th>\n",
       "      <th>Q19</th>\n",
       "      <th>Q20</th>\n",
       "      <th>Q21</th>\n",
       "      <th>Q22</th>\n",
       "      <th>Q23</th>\n",
       "      <th>Q24</th>\n",
       "      <th>Q25</th>\n",
       "    </tr>\n",
       "  </thead>\n",
       "  <tbody>\n",
       "    <tr>\n",
       "      <th>0</th>\n",
       "      <td>288</td>\n",
       "      <td>1</td>\n",
       "      <td>24</td>\n",
       "      <td>1</td>\n",
       "      <td>1</td>\n",
       "      <td>37</td>\n",
       "      <td>2</td>\n",
       "      <td>2</td>\n",
       "      <td>1</td>\n",
       "      <td>0</td>\n",
       "      <td>...</td>\n",
       "      <td>1</td>\n",
       "      <td>4</td>\n",
       "      <td>1</td>\n",
       "      <td>4</td>\n",
       "      <td>4</td>\n",
       "      <td>0</td>\n",
       "      <td>0</td>\n",
       "      <td>0</td>\n",
       "      <td>0</td>\n",
       "      <td>3</td>\n",
       "    </tr>\n",
       "    <tr>\n",
       "      <th>1</th>\n",
       "      <td>FS/2510</td>\n",
       "      <td>2</td>\n",
       "      <td>23</td>\n",
       "      <td>1</td>\n",
       "      <td>1</td>\n",
       "      <td>37</td>\n",
       "      <td>2</td>\n",
       "      <td>1</td>\n",
       "      <td>0</td>\n",
       "      <td>4</td>\n",
       "      <td>...</td>\n",
       "      <td>0</td>\n",
       "      <td>4</td>\n",
       "      <td>0</td>\n",
       "      <td>1</td>\n",
       "      <td>0</td>\n",
       "      <td>2</td>\n",
       "      <td>0</td>\n",
       "      <td>0</td>\n",
       "      <td>0</td>\n",
       "      <td>0</td>\n",
       "    </tr>\n",
       "    <tr>\n",
       "      <th>2</th>\n",
       "      <td>220</td>\n",
       "      <td>1</td>\n",
       "      <td>18</td>\n",
       "      <td>1</td>\n",
       "      <td>1</td>\n",
       "      <td>45</td>\n",
       "      <td>2</td>\n",
       "      <td>3</td>\n",
       "      <td>4</td>\n",
       "      <td>2</td>\n",
       "      <td>...</td>\n",
       "      <td>2</td>\n",
       "      <td>3</td>\n",
       "      <td>2</td>\n",
       "      <td>2</td>\n",
       "      <td>0</td>\n",
       "      <td>0</td>\n",
       "      <td>0</td>\n",
       "      <td>0</td>\n",
       "      <td>0</td>\n",
       "      <td>0</td>\n",
       "    </tr>\n",
       "    <tr>\n",
       "      <th>3</th>\n",
       "      <td>FS/2762</td>\n",
       "      <td>1</td>\n",
       "      <td>20</td>\n",
       "      <td>1</td>\n",
       "      <td>1</td>\n",
       "      <td>52</td>\n",
       "      <td>4</td>\n",
       "      <td>2</td>\n",
       "      <td>0</td>\n",
       "      <td>4</td>\n",
       "      <td>...</td>\n",
       "      <td>3</td>\n",
       "      <td>1</td>\n",
       "      <td>0</td>\n",
       "      <td>2</td>\n",
       "      <td>0</td>\n",
       "      <td>2</td>\n",
       "      <td>0</td>\n",
       "      <td>2</td>\n",
       "      <td>1</td>\n",
       "      <td>2</td>\n",
       "    </tr>\n",
       "    <tr>\n",
       "      <th>4</th>\n",
       "      <td>238</td>\n",
       "      <td>2</td>\n",
       "      <td>19</td>\n",
       "      <td>1</td>\n",
       "      <td>1</td>\n",
       "      <td>39</td>\n",
       "      <td>1</td>\n",
       "      <td>2</td>\n",
       "      <td>1</td>\n",
       "      <td>1</td>\n",
       "      <td>...</td>\n",
       "      <td>3</td>\n",
       "      <td>4</td>\n",
       "      <td>2</td>\n",
       "      <td>2</td>\n",
       "      <td>1</td>\n",
       "      <td>0</td>\n",
       "      <td>1</td>\n",
       "      <td>3</td>\n",
       "      <td>0</td>\n",
       "      <td>2</td>\n",
       "    </tr>\n",
       "  </tbody>\n",
       "</table>\n",
       "<p>5 rows × 31 columns</p>\n",
       "</div>"
      ],
      "text/plain": [
       "  child_ID  sex  age  group  asd_risk  sum_qchat  Q01  Q02  Q03  Q04  ...  \\\n",
       "0      288    1   24      1         1         37    2    2    1    0  ...   \n",
       "1  FS/2510    2   23      1         1         37    2    1    0    4  ...   \n",
       "2      220    1   18      1         1         45    2    3    4    2  ...   \n",
       "3  FS/2762    1   20      1         1         52    4    2    0    4  ...   \n",
       "4      238    2   19      1         1         39    1    2    1    1  ...   \n",
       "\n",
       "   Q16  Q17  Q18  Q19  Q20  Q21  Q22  Q23  Q24  Q25  \n",
       "0    1    4    1    4    4    0    0    0    0    3  \n",
       "1    0    4    0    1    0    2    0    0    0    0  \n",
       "2    2    3    2    2    0    0    0    0    0    0  \n",
       "3    3    1    0    2    0    2    0    2    1    2  \n",
       "4    3    4    2    2    1    0    1    3    0    2  \n",
       "\n",
       "[5 rows x 31 columns]"
      ]
     },
     "execution_count": 3,
     "metadata": {},
     "output_type": "execute_result"
    }
   ],
   "source": [
    "dataset.head()"
   ]
  },
  {
   "cell_type": "code",
   "execution_count": 4,
   "id": "e2239cc9",
   "metadata": {},
   "outputs": [],
   "source": [
    "# drops the redundant column in the dataset\n",
    "dataset = dataset.drop(\"child_ID\", axis=1)"
   ]
  },
  {
   "cell_type": "markdown",
   "id": "96aeea94",
   "metadata": {},
   "source": [
    "### LABEL ENCODER"
   ]
  },
  {
   "cell_type": "code",
   "execution_count": 5,
   "id": "c1ec3965",
   "metadata": {},
   "outputs": [],
   "source": [
    "encoder = LabelEncoder()"
   ]
  },
  {
   "cell_type": "code",
   "execution_count": 6,
   "id": "391fe243",
   "metadata": {},
   "outputs": [],
   "source": [
    "# This code encodes the features which are not numerical, for the machine learning model.\n",
    "dataset[\"sex\"] = encoder.fit_transform(dataset[\"sex\"])\n",
    "dataset[\"group\"] = encoder.fit_transform(dataset[\"group\"])\n",
    "dataset[\"asd_risk\"] = encoder.fit_transform(dataset[\"asd_risk\"])"
   ]
  },
  {
   "cell_type": "markdown",
   "id": "eb286739",
   "metadata": {},
   "source": [
    "### FEATURE SELECTION"
   ]
  },
  {
   "cell_type": "code",
   "execution_count": 7,
   "id": "6a6b31ea",
   "metadata": {},
   "outputs": [],
   "source": [
    "forest = RandomForestClassifier()"
   ]
  },
  {
   "cell_type": "code",
   "execution_count": 8,
   "id": "d1e4960b",
   "metadata": {},
   "outputs": [],
   "source": [
    "# separates the dependent and the independent variables\n",
    "X = dataset.drop(\"asd_risk\", axis = 1) #independent columns\n",
    "y = dataset[\"asd_risk\"] #target"
   ]
  },
  {
   "cell_type": "code",
   "execution_count": 9,
   "id": "48f97e42",
   "metadata": {},
   "outputs": [
    {
     "data": {
      "text/html": [
       "<style>#sk-container-id-1 {color: black;background-color: white;}#sk-container-id-1 pre{padding: 0;}#sk-container-id-1 div.sk-toggleable {background-color: white;}#sk-container-id-1 label.sk-toggleable__label {cursor: pointer;display: block;width: 100%;margin-bottom: 0;padding: 0.3em;box-sizing: border-box;text-align: center;}#sk-container-id-1 label.sk-toggleable__label-arrow:before {content: \"▸\";float: left;margin-right: 0.25em;color: #696969;}#sk-container-id-1 label.sk-toggleable__label-arrow:hover:before {color: black;}#sk-container-id-1 div.sk-estimator:hover label.sk-toggleable__label-arrow:before {color: black;}#sk-container-id-1 div.sk-toggleable__content {max-height: 0;max-width: 0;overflow: hidden;text-align: left;background-color: #f0f8ff;}#sk-container-id-1 div.sk-toggleable__content pre {margin: 0.2em;color: black;border-radius: 0.25em;background-color: #f0f8ff;}#sk-container-id-1 input.sk-toggleable__control:checked~div.sk-toggleable__content {max-height: 200px;max-width: 100%;overflow: auto;}#sk-container-id-1 input.sk-toggleable__control:checked~label.sk-toggleable__label-arrow:before {content: \"▾\";}#sk-container-id-1 div.sk-estimator input.sk-toggleable__control:checked~label.sk-toggleable__label {background-color: #d4ebff;}#sk-container-id-1 div.sk-label input.sk-toggleable__control:checked~label.sk-toggleable__label {background-color: #d4ebff;}#sk-container-id-1 input.sk-hidden--visually {border: 0;clip: rect(1px 1px 1px 1px);clip: rect(1px, 1px, 1px, 1px);height: 1px;margin: -1px;overflow: hidden;padding: 0;position: absolute;width: 1px;}#sk-container-id-1 div.sk-estimator {font-family: monospace;background-color: #f0f8ff;border: 1px dotted black;border-radius: 0.25em;box-sizing: border-box;margin-bottom: 0.5em;}#sk-container-id-1 div.sk-estimator:hover {background-color: #d4ebff;}#sk-container-id-1 div.sk-parallel-item::after {content: \"\";width: 100%;border-bottom: 1px solid gray;flex-grow: 1;}#sk-container-id-1 div.sk-label:hover label.sk-toggleable__label {background-color: #d4ebff;}#sk-container-id-1 div.sk-serial::before {content: \"\";position: absolute;border-left: 1px solid gray;box-sizing: border-box;top: 0;bottom: 0;left: 50%;z-index: 0;}#sk-container-id-1 div.sk-serial {display: flex;flex-direction: column;align-items: center;background-color: white;padding-right: 0.2em;padding-left: 0.2em;position: relative;}#sk-container-id-1 div.sk-item {position: relative;z-index: 1;}#sk-container-id-1 div.sk-parallel {display: flex;align-items: stretch;justify-content: center;background-color: white;position: relative;}#sk-container-id-1 div.sk-item::before, #sk-container-id-1 div.sk-parallel-item::before {content: \"\";position: absolute;border-left: 1px solid gray;box-sizing: border-box;top: 0;bottom: 0;left: 50%;z-index: -1;}#sk-container-id-1 div.sk-parallel-item {display: flex;flex-direction: column;z-index: 1;position: relative;background-color: white;}#sk-container-id-1 div.sk-parallel-item:first-child::after {align-self: flex-end;width: 50%;}#sk-container-id-1 div.sk-parallel-item:last-child::after {align-self: flex-start;width: 50%;}#sk-container-id-1 div.sk-parallel-item:only-child::after {width: 0;}#sk-container-id-1 div.sk-dashed-wrapped {border: 1px dashed gray;margin: 0 0.4em 0.5em 0.4em;box-sizing: border-box;padding-bottom: 0.4em;background-color: white;}#sk-container-id-1 div.sk-label label {font-family: monospace;font-weight: bold;display: inline-block;line-height: 1.2em;}#sk-container-id-1 div.sk-label-container {text-align: center;}#sk-container-id-1 div.sk-container {/* jupyter's `normalize.less` sets `[hidden] { display: none; }` but bootstrap.min.css set `[hidden] { display: none !important; }` so we also need the `!important` here to be able to override the default hidden behavior on the sphinx rendered scikit-learn.org. See: https://github.com/scikit-learn/scikit-learn/issues/21755 */display: inline-block !important;position: relative;}#sk-container-id-1 div.sk-text-repr-fallback {display: none;}</style><div id=\"sk-container-id-1\" class=\"sk-top-container\"><div class=\"sk-text-repr-fallback\"><pre>RandomForestClassifier()</pre><b>In a Jupyter environment, please rerun this cell to show the HTML representation or trust the notebook. <br />On GitHub, the HTML representation is unable to render, please try loading this page with nbviewer.org.</b></div><div class=\"sk-container\" hidden><div class=\"sk-item\"><div class=\"sk-estimator sk-toggleable\"><input class=\"sk-toggleable__control sk-hidden--visually\" id=\"sk-estimator-id-1\" type=\"checkbox\" checked><label for=\"sk-estimator-id-1\" class=\"sk-toggleable__label sk-toggleable__label-arrow\">RandomForestClassifier</label><div class=\"sk-toggleable__content\"><pre>RandomForestClassifier()</pre></div></div></div></div></div>"
      ],
      "text/plain": [
       "RandomForestClassifier()"
      ]
     },
     "execution_count": 9,
     "metadata": {},
     "output_type": "execute_result"
    }
   ],
   "source": [
    "forest.fit(X, y)"
   ]
  },
  {
   "cell_type": "code",
   "execution_count": 10,
   "id": "0615a4f9",
   "metadata": {},
   "outputs": [],
   "source": [
    "importances = forest.feature_importances_"
   ]
  },
  {
   "cell_type": "code",
   "execution_count": 11,
   "id": "d5fa3047",
   "metadata": {},
   "outputs": [],
   "source": [
    "indices = np.argsort(importances)[::-1]"
   ]
  },
  {
   "cell_type": "code",
   "execution_count": 12,
   "id": "7aec4589",
   "metadata": {},
   "outputs": [],
   "source": [
    "# selecting the best 10 features\n",
    "X_forest = X.iloc[:, indices[:15]]"
   ]
  },
  {
   "cell_type": "code",
   "execution_count": 13,
   "id": "8b4bfbbe",
   "metadata": {},
   "outputs": [
    {
     "data": {
      "text/plain": [
       "['group',\n",
       " 'age',\n",
       " 'sum_qchat',\n",
       " 'Q10',\n",
       " 'Q03',\n",
       " 'Q13',\n",
       " 'Q23',\n",
       " 'Q09',\n",
       " 'Q19',\n",
       " 'Q18',\n",
       " 'Q01',\n",
       " 'Q15',\n",
       " 'Q02',\n",
       " 'Q05',\n",
       " 'Q11']"
      ]
     },
     "execution_count": 13,
     "metadata": {},
     "output_type": "execute_result"
    }
   ],
   "source": [
    "# viewing the selected columns\n",
    "X_forest.columns.tolist()"
   ]
  },
  {
   "cell_type": "code",
   "execution_count": 14,
   "id": "080b83e0",
   "metadata": {},
   "outputs": [],
   "source": [
    "# separates the dependent and the independent variables\n",
    "X = X_forest # feature selected independent columns"
   ]
  },
  {
   "cell_type": "markdown",
   "id": "79da4191",
   "metadata": {},
   "source": [
    "# NEURAL NETWORK IMPLEMENTATION"
   ]
  },
  {
   "cell_type": "code",
   "execution_count": 15,
   "id": "5c90470c",
   "metadata": {},
   "outputs": [],
   "source": [
    "import torch\n",
    "import torch.nn as nn\n",
    "import torch.optim as optim\n",
    "from torchvision.transforms import ToTensor\n",
    "from torchvision import transforms\n",
    "from tqdm.auto import tqdm\n",
    "import torch.optim.lr_scheduler as lr_scheduler\n",
    "from torch.utils.data import Dataset, DataLoader, random_split, WeightedRandomSampler\n",
    "import torch.nn.functional as F"
   ]
  },
  {
   "cell_type": "markdown",
   "id": "c4e772d4",
   "metadata": {},
   "source": [
    "### CREATE A CUSTOM DATASET CLASS"
   ]
  },
  {
   "cell_type": "code",
   "execution_count": 16,
   "id": "16f12778",
   "metadata": {},
   "outputs": [],
   "source": [
    "class Custom_Dataset(Dataset):\n",
    "    def __init__(self, X, y, transform = None):\n",
    "        self.X = X\n",
    "        self.y = y\n",
    "        self.transform = transform\n",
    "        \n",
    "    def __len__(self):\n",
    "        return len(self.X)\n",
    "    \n",
    "    def __getitem__(self, idx):\n",
    "        return self.X[idx], self.y[idx]  "
   ]
  },
  {
   "cell_type": "code",
   "execution_count": 17,
   "id": "de0456fd",
   "metadata": {},
   "outputs": [],
   "source": [
    "# Define normalization transform\n",
    "transform = transforms.Compose(\n",
    "    [\n",
    "    transforms.ToTensor(),\n",
    "]\n",
    ")"
   ]
  },
  {
   "cell_type": "code",
   "execution_count": 18,
   "id": "0fad1bc7",
   "metadata": {},
   "outputs": [],
   "source": [
    "device = torch.device('cuda' if torch.cuda.is_available() else 'cpu')"
   ]
  },
  {
   "cell_type": "markdown",
   "id": "ad8c2133",
   "metadata": {},
   "source": [
    "## DATA  SPLITTING FOR NEURAL NETWORK AND STANDARDIZATION"
   ]
  },
  {
   "cell_type": "code",
   "execution_count": 19,
   "id": "def95df8",
   "metadata": {},
   "outputs": [],
   "source": [
    "# separates the dependent and the independent variables\n",
    "X = X_forest.values # feature selected independent columns\n",
    "y = y.values"
   ]
  },
  {
   "cell_type": "code",
   "execution_count": 20,
   "id": "e3866344",
   "metadata": {},
   "outputs": [],
   "source": [
    "# splits the data into train sets\n",
    "X_train, X_temp, y_train, y_temp = train_test_split(X, y, test_size=0.4, random_state=46)"
   ]
  },
  {
   "cell_type": "code",
   "execution_count": 21,
   "id": "b9875866",
   "metadata": {},
   "outputs": [],
   "source": [
    "# splits the data into test and validation sets\n",
    "X_val, X_test, y_val, y_test = train_test_split(X_temp, y_temp, test_size=0.5, random_state=46)"
   ]
  },
  {
   "cell_type": "code",
   "execution_count": 22,
   "id": "4daa5f87",
   "metadata": {},
   "outputs": [],
   "source": [
    "# scaling the faetures\n",
    "scaler = StandardScaler()"
   ]
  },
  {
   "cell_type": "code",
   "execution_count": 23,
   "id": "deca3321",
   "metadata": {},
   "outputs": [],
   "source": [
    "X_train = scaler.fit_transform(X_train)"
   ]
  },
  {
   "cell_type": "code",
   "execution_count": 24,
   "id": "91b97c49",
   "metadata": {},
   "outputs": [],
   "source": [
    "X_test = scaler.transform(X_test)"
   ]
  },
  {
   "cell_type": "code",
   "execution_count": 25,
   "id": "4e0a42f1",
   "metadata": {},
   "outputs": [],
   "source": [
    "X_val = scaler.transform(X_val)"
   ]
  },
  {
   "cell_type": "markdown",
   "id": "db163dcd",
   "metadata": {},
   "source": [
    "#### CONVERT TO PYTORCH TENSORS"
   ]
  },
  {
   "cell_type": "code",
   "execution_count": 26,
   "id": "a8e62e1e",
   "metadata": {},
   "outputs": [],
   "source": [
    "X_train = torch.tensor(X_train, dtype=torch.float32)\n",
    "X_test = torch.tensor(X_test, dtype=torch.float32)\n",
    "X_val = torch.tensor(X_val, dtype=torch.float32)\n",
    "y_train = torch.tensor(y_train, dtype=torch.float32)\n",
    "y_test = torch.tensor(y_test, dtype=torch.float32)\n",
    "y_val = torch.tensor(y_val, dtype=torch.float32)"
   ]
  },
  {
   "cell_type": "markdown",
   "id": "b4fec548",
   "metadata": {},
   "source": [
    "#### DATASET"
   ]
  },
  {
   "cell_type": "code",
   "execution_count": 27,
   "id": "572a205b",
   "metadata": {},
   "outputs": [],
   "source": [
    "train_dataset = Custom_Dataset(X_train, y_train, transform=transform)"
   ]
  },
  {
   "cell_type": "code",
   "execution_count": 28,
   "id": "bc052bd8",
   "metadata": {},
   "outputs": [],
   "source": [
    "test_dataset = Custom_Dataset(X_test, y_test, transform=transform)"
   ]
  },
  {
   "cell_type": "code",
   "execution_count": 29,
   "id": "742b715c",
   "metadata": {},
   "outputs": [],
   "source": [
    "val_dataset = Custom_Dataset(X_val, y_val, transform=transform)"
   ]
  },
  {
   "cell_type": "markdown",
   "id": "e278c04f",
   "metadata": {},
   "source": [
    "#### DATALOADER"
   ]
  },
  {
   "cell_type": "code",
   "execution_count": 30,
   "id": "6b4c6906",
   "metadata": {},
   "outputs": [],
   "source": [
    "train_loader = DataLoader(train_dataset, \n",
    "                          batch_size=32, \n",
    "                          shuffle=True\n",
    "                         )"
   ]
  },
  {
   "cell_type": "code",
   "execution_count": 31,
   "id": "fdfec4b6",
   "metadata": {},
   "outputs": [],
   "source": [
    "test_loader = DataLoader(test_dataset,\n",
    "                        batch_size=32,\n",
    "                        shuffle=False\n",
    "                        )"
   ]
  },
  {
   "cell_type": "code",
   "execution_count": 32,
   "id": "010afef2",
   "metadata": {},
   "outputs": [],
   "source": [
    "val_loader = DataLoader(val_dataset,\n",
    "                        batch_size=32,\n",
    "                        shuffle=True\n",
    "                        )"
   ]
  },
  {
   "cell_type": "markdown",
   "id": "6e77846d",
   "metadata": {},
   "source": [
    "### BUILDING THE MLP ARCHITECTURE"
   ]
  },
  {
   "cell_type": "code",
   "execution_count": 33,
   "id": "dff519a4",
   "metadata": {},
   "outputs": [],
   "source": [
    "class MultiLayerPerceptron(nn.Module):\n",
    "    def __init__(self, input_dim, output_dim, final_activation):\n",
    "        super(MultiLayerPerceptron, self). __init__()\n",
    "        self.fc1 = nn.Linear(input_dim, 128)\n",
    "        self.fc2 = nn.Linear(128, 64)\n",
    "        self.fc3 = nn.Linear(64, output_dim)\n",
    "        self.final_activation = final_activation\n",
    "        \n",
    "    def forward(self, x):\n",
    "        x = F.relu(self.fc1(x))\n",
    "        x = F.relu(self.fc2(x))\n",
    "        if self.final_activation == \"sigmoid\":\n",
    "            x = torch.sigmoid(self.fc3(x))\n",
    "        else:\n",
    "            x = self.fc3(x) # regression linear output\n",
    "        return x"
   ]
  },
  {
   "cell_type": "code",
   "execution_count": 34,
   "id": "4040ed93",
   "metadata": {},
   "outputs": [],
   "source": [
    "model = MultiLayerPerceptron(input_dim=X_train.shape[1], output_dim=1, final_activation=\"sigmoid\")"
   ]
  },
  {
   "cell_type": "markdown",
   "id": "335b8090",
   "metadata": {},
   "source": [
    "#### TRAINING AND VALIDATION"
   ]
  },
  {
   "cell_type": "code",
   "execution_count": 35,
   "id": "e4b25a4c",
   "metadata": {},
   "outputs": [],
   "source": [
    "train_accuracies = []\n",
    "val_accuracies = []"
   ]
  },
  {
   "cell_type": "code",
   "execution_count": 36,
   "id": "14a0c336",
   "metadata": {},
   "outputs": [],
   "source": [
    "def train_model(model, train_loader, val_loader, criterion, optimizer, num_epochs=20):\n",
    "    model.train()\n",
    "    correct_train = 0\n",
    "    total_train = 0\n",
    "    for epoch in range(num_epochs):\n",
    "        for inputs, targets in train_loader:\n",
    "            inputs = inputs.to(device, dtype = torch.float32)\n",
    "            targets = targets.to(device, dtype = torch.float32)\n",
    "            optimizer.zero_grad()\n",
    "            outputs = model(inputs)\n",
    "            loss = criterion(outputs, targets.view(-1, 1))\n",
    "            loss.backward()\n",
    "            optimizer.step()\n",
    "            \n",
    "            # accuracy\n",
    "            _, predicted = torch.max(outputs, 1)\n",
    "            total_train += targets.size(0)\n",
    "            correct_train += (predicted == targets).sum().item()\n",
    "            \n",
    "        train_accuracy = 100 * correct_train / total_train\n",
    "        train_accuracies.append(train_accuracy)\n",
    "        \n",
    "        # VALIDATION PHASE\n",
    "        model.eval()\n",
    "        correct_val = 0\n",
    "        total_val = 0\n",
    "        with torch.no_grad():\n",
    "            for inputs, targets in val_loader:\n",
    "                inputs = inputs.to(device, dtype = torch.float32)\n",
    "                targets = targets.to(device, dtype = torch.float32)\n",
    "                outputs = model(inputs)\n",
    "                loss = criterion(outputs, targets.view(-1, 1))\n",
    "                \n",
    "                _, predicted = torch.max(outputs, 1)\n",
    "                total_val += targets.size(0)\n",
    "                correct_val += (predicted == targets).sum().item()\n",
    "        val_accuracy = 100 * correct_val / total_val\n",
    "        val_accuracies.append(val_accuracy) \n",
    "        print(f\"Epoch {epoch+1} / {num_epochs}, Loss: {loss.item()}, Train Accuracy: {train_accuracy:.2f}%, Val Accuracy: {val_accuracy:.2f}%\")        \n"
   ]
  },
  {
   "cell_type": "code",
   "execution_count": 37,
   "id": "1940ae4a",
   "metadata": {},
   "outputs": [],
   "source": [
    "criterion = nn.BCELoss()\n",
    "optimizer = optim.Adam(model.parameters(), lr=0.001)"
   ]
  },
  {
   "cell_type": "markdown",
   "id": "4bea6d10",
   "metadata": {},
   "source": [
    "#### TESTING"
   ]
  },
  {
   "cell_type": "code",
   "execution_count": 38,
   "id": "f77dbf05",
   "metadata": {},
   "outputs": [],
   "source": [
    "def evaluate_model(model, X_test, y_test):\n",
    "    model.eval()\n",
    "    predictions_list = []\n",
    "    labels_list = []\n",
    "\n",
    "    with torch.no_grad():\n",
    "        predictions = model(X_test)\n",
    "        \n",
    "        if model.final_activation == \"sigmoid\":\n",
    "            predictions = torch.round(predictions)\n",
    "            correct = (predictions == y_test.view(-1, 1)).float().sum()\n",
    "            accuracy = correct / y_test.shape[0]\n",
    "            print(f\"Accuracy: {accuracy.item() * 100:.2f}%\")\n",
    "        else:\n",
    "            mse = F.mse_loss(predictions, y_test.view(-1, 1))\n",
    "            print(f\"MSE: {mse.item():.4f}\")\n",
    "\n",
    "        # Append predicted and actual labels to the lists\n",
    "        predictions_list.extend(predictions.cpu().numpy())\n",
    "        labels_list.extend(y_test.cpu().numpy())\n",
    "\n",
    "    return predictions_list, labels_list"
   ]
  },
  {
   "cell_type": "markdown",
   "id": "3371af8e",
   "metadata": {},
   "source": [
    "#### TRAINING VALIDATION AND TESTING"
   ]
  },
  {
   "cell_type": "code",
   "execution_count": 39,
   "id": "9ec469a9",
   "metadata": {},
   "outputs": [
    {
     "name": "stdout",
     "output_type": "stream",
     "text": [
      "Epoch 1 / 20, Loss: 0.37111443281173706, Train Accuracy: 93.60%, Val Accuracy: 93.10%\n",
      "Epoch 2 / 20, Loss: 0.5410284996032715, Train Accuracy: 93.60%, Val Accuracy: 93.10%\n",
      "Epoch 3 / 20, Loss: 0.07038357853889465, Train Accuracy: 93.60%, Val Accuracy: 93.10%\n",
      "Epoch 4 / 20, Loss: 0.08822935074567795, Train Accuracy: 93.60%, Val Accuracy: 93.10%\n",
      "Epoch 5 / 20, Loss: 0.5360771417617798, Train Accuracy: 93.60%, Val Accuracy: 93.10%\n",
      "Epoch 6 / 20, Loss: 0.21335521340370178, Train Accuracy: 93.60%, Val Accuracy: 93.10%\n",
      "Epoch 7 / 20, Loss: 0.4674387276172638, Train Accuracy: 93.60%, Val Accuracy: 93.10%\n",
      "Epoch 8 / 20, Loss: 0.3714975118637085, Train Accuracy: 93.60%, Val Accuracy: 93.10%\n",
      "Epoch 9 / 20, Loss: 0.19465602934360504, Train Accuracy: 93.60%, Val Accuracy: 93.10%\n",
      "Epoch 10 / 20, Loss: 0.06786156445741653, Train Accuracy: 93.60%, Val Accuracy: 93.10%\n",
      "Epoch 11 / 20, Loss: 0.06614523380994797, Train Accuracy: 93.60%, Val Accuracy: 93.10%\n",
      "Epoch 12 / 20, Loss: 0.5830737948417664, Train Accuracy: 93.60%, Val Accuracy: 93.10%\n",
      "Epoch 13 / 20, Loss: 0.3103502094745636, Train Accuracy: 93.60%, Val Accuracy: 93.10%\n",
      "Epoch 14 / 20, Loss: 0.04042121022939682, Train Accuracy: 93.60%, Val Accuracy: 93.10%\n",
      "Epoch 15 / 20, Loss: 0.2273489534854889, Train Accuracy: 93.60%, Val Accuracy: 93.10%\n",
      "Epoch 16 / 20, Loss: 0.42092838883399963, Train Accuracy: 93.60%, Val Accuracy: 93.10%\n",
      "Epoch 17 / 20, Loss: 0.3172172009944916, Train Accuracy: 93.60%, Val Accuracy: 93.10%\n",
      "Epoch 18 / 20, Loss: 0.09879228472709656, Train Accuracy: 93.60%, Val Accuracy: 93.10%\n",
      "Epoch 19 / 20, Loss: 0.03492024540901184, Train Accuracy: 93.60%, Val Accuracy: 93.10%\n",
      "Epoch 20 / 20, Loss: 0.08602184802293777, Train Accuracy: 93.60%, Val Accuracy: 93.10%\n"
     ]
    }
   ],
   "source": [
    "train_model(model, train_loader, val_loader, criterion, optimizer)"
   ]
  },
  {
   "cell_type": "code",
   "execution_count": 40,
   "id": "b456e8d5",
   "metadata": {},
   "outputs": [
    {
     "name": "stdout",
     "output_type": "stream",
     "text": [
      "Accuracy: 93.63%\n"
     ]
    }
   ],
   "source": [
    "predictions, labels = evaluate_model(model, X_test, y_test)"
   ]
  },
  {
   "cell_type": "markdown",
   "id": "9a757dc5",
   "metadata": {},
   "source": [
    "#### VISUALIZATION"
   ]
  },
  {
   "cell_type": "code",
   "execution_count": 41,
   "id": "9a5c91bc",
   "metadata": {},
   "outputs": [
    {
     "data": {
      "image/png": "[encoded data removed]",
      "text/plain": [
       "<Figure size 640x480 with 1 Axes>"
      ]
     },
     "metadata": {},
     "output_type": "display_data"
    }
   ],
   "source": [
    "# plot accuracy progress\n",
    "plt.title(\"Training Accuracy trends for MLP model\")\n",
    "plt.plot(train_accuracies, label = \"Training Accuracy\")\n",
    "plt.plot(val_accuracies, label = \"Validation Accuracy\")\n",
    "plt.ylabel(\"Accuracy\")\n",
    "plt.xlabel(\"Training Epochs\")\n",
    "plt.legend()\n",
    "plt.grid(True)\n",
    "plt.show()"
   ]
  },
  {
   "cell_type": "markdown",
   "id": "3e1c13d9",
   "metadata": {},
   "source": [
    "### CLASSIFICATION REPORT"
   ]
  },
  {
   "cell_type": "code",
   "execution_count": 42,
   "id": "f9d18553",
   "metadata": {},
   "outputs": [],
   "source": [
    "from sklearn.metrics import accuracy_score, precision_score, recall_score, f1_score"
   ]
  },
  {
   "cell_type": "code",
   "execution_count": 43,
   "id": "a8b5146b",
   "metadata": {},
   "outputs": [],
   "source": [
    "# these are gotten from the sklearn library\n",
    "accuracy = accuracy_score(labels, predictions)\n",
    "precision = precision_score(labels, predictions, average = \"weighted\")\n",
    "recall = recall_score(labels, predictions, average = \"weighted\")\n",
    "f1 = f1_score(labels, predictions, average = \"weighted\")"
   ]
  },
  {
   "cell_type": "code",
   "execution_count": 44,
   "id": "e64a949e",
   "metadata": {},
   "outputs": [
    {
     "name": "stdout",
     "output_type": "stream",
     "text": [
      "              precision    recall  f1-score   support\n",
      "\n",
      "         0.0       0.94      0.99      0.97       190\n",
      "         1.0       0.60      0.21      0.32        14\n",
      "\n",
      "    accuracy                           0.94       204\n",
      "   macro avg       0.77      0.60      0.64       204\n",
      "weighted avg       0.92      0.94      0.92       204\n",
      "\n"
     ]
    }
   ],
   "source": [
    "report = classification_report(labels, predictions)\n",
    "print(report)"
   ]
  },
  {
   "cell_type": "code",
   "execution_count": null,
   "id": "aebf88f8",
   "metadata": {},
   "outputs": [],
   "source": []
  }
 ],
 "metadata": {
  "kernelspec": {
   "display_name": "Python 3 (ipykernel)",
   "language": "python",
   "name": "python3"
  },
  "language_info": {
   "codemirror_mode": {
    "name": "ipython",
    "version": 3
   },
   "file_extension": ".py",
   "mimetype": "text/x-python",
   "name": "python",
   "nbconvert_exporter": "python",
   "pygments_lexer": "ipython3",
   "version": "3.10.9"
  }
 },
 "nbformat": 4,
 "nbformat_minor": 5
}
