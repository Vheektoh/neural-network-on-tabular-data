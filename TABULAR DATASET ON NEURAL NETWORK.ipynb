{
 "cells": [
  {
   "cell_type": "markdown",
   "id": "29c2ee53",
   "metadata": {},
   "source": [
    "# ONLINE PAYMENT FRAUD DETECTION "
   ]
  },
  {
   "cell_type": "markdown",
   "id": "7ab746b7",
   "metadata": {},
   "source": [
    "### IMPORTING REQUIRED LIBRARIES"
   ]
  },
  {
   "cell_type": "code",
   "execution_count": 1,
   "id": "abff5559",
   "metadata": {},
   "outputs": [],
   "source": [
    "import pandas as pd\n",
    "import numpy as np\n",
    "import torch\n",
    "import torch.nn as nn\n",
    "import torch.optim as optim\n",
    "from torchvision.transforms import ToTensor\n",
    "from tqdm.auto import tqdm\n",
    "import torch.optim.lr_scheduler as lr_scheduler\n",
    "from torch.utils.data import Dataset, DataLoader, random_split\n",
    "import torch.nn.functional as F\n",
    "from sklearn.preprocessing import StandardScaler, LabelEncoder\n",
    "from sklearn.model_selection import train_test_split\n",
    "import matplotlib.pyplot as plt\n",
    "%matplotlib inline\n",
    "import seaborn as sns\n",
    "import random\n",
    "from sklearn.metrics import accuracy_score, precision_score, recall_score, f1_score, roc_auc_score, precision_recall_curve, roc_curve, auc, confusion_matrix, classification_report\n",
    "import warnings\n",
    "warnings.filterwarnings(\"ignore\")"
   ]
  },
  {
   "cell_type": "markdown",
   "id": "3aa52348",
   "metadata": {},
   "source": [
    "#### LOADING THE DATA"
   ]
  },
  {
   "cell_type": "code",
   "execution_count": 2,
   "id": "c96f48c0",
   "metadata": {},
   "outputs": [],
   "source": [
    "file_path = \"C:/Users/Hp/Documents/ML/credit_fraud_data.csv\""
   ]
  },
  {
   "cell_type": "code",
   "execution_count": 3,
   "id": "16527f07",
   "metadata": {},
   "outputs": [],
   "source": [
    "dataframe = pd.read_csv(file_path)"
   ]
  },
  {
   "cell_type": "code",
   "execution_count": 4,
   "id": "eb974db8",
   "metadata": {},
   "outputs": [
    {
     "data": {
      "text/html": [
       "<div>\n",
       "<style scoped>\n",
       "    .dataframe tbody tr th:only-of-type {\n",
       "        vertical-align: middle;\n",
       "    }\n",
       "\n",
       "    .dataframe tbody tr th {\n",
       "        vertical-align: top;\n",
       "    }\n",
       "\n",
       "    .dataframe thead th {\n",
       "        text-align: right;\n",
       "    }\n",
       "</style>\n",
       "<table border=\"1\" class=\"dataframe\">\n",
       "  <thead>\n",
       "    <tr style=\"text-align: right;\">\n",
       "      <th></th>\n",
       "      <th>step</th>\n",
       "      <th>type</th>\n",
       "      <th>amount</th>\n",
       "      <th>nameOrig</th>\n",
       "      <th>oldbalanceOrg</th>\n",
       "      <th>newbalanceOrig</th>\n",
       "      <th>nameDest</th>\n",
       "      <th>oldbalanceDest</th>\n",
       "      <th>newbalanceDest</th>\n",
       "      <th>isFraud</th>\n",
       "      <th>isFlaggedFraud</th>\n",
       "    </tr>\n",
       "  </thead>\n",
       "  <tbody>\n",
       "    <tr>\n",
       "      <th>0</th>\n",
       "      <td>1</td>\n",
       "      <td>PAYMENT</td>\n",
       "      <td>9839.64</td>\n",
       "      <td>C1231006815</td>\n",
       "      <td>170136.0</td>\n",
       "      <td>160296.36</td>\n",
       "      <td>M1979787155</td>\n",
       "      <td>0.0</td>\n",
       "      <td>0.0</td>\n",
       "      <td>0</td>\n",
       "      <td>0</td>\n",
       "    </tr>\n",
       "    <tr>\n",
       "      <th>1</th>\n",
       "      <td>1</td>\n",
       "      <td>PAYMENT</td>\n",
       "      <td>1864.28</td>\n",
       "      <td>C1666544295</td>\n",
       "      <td>21249.0</td>\n",
       "      <td>19384.72</td>\n",
       "      <td>M2044282225</td>\n",
       "      <td>0.0</td>\n",
       "      <td>0.0</td>\n",
       "      <td>0</td>\n",
       "      <td>0</td>\n",
       "    </tr>\n",
       "    <tr>\n",
       "      <th>2</th>\n",
       "      <td>1</td>\n",
       "      <td>TRANSFER</td>\n",
       "      <td>181.00</td>\n",
       "      <td>C1305486145</td>\n",
       "      <td>181.0</td>\n",
       "      <td>0.00</td>\n",
       "      <td>C553264065</td>\n",
       "      <td>0.0</td>\n",
       "      <td>0.0</td>\n",
       "      <td>1</td>\n",
       "      <td>0</td>\n",
       "    </tr>\n",
       "    <tr>\n",
       "      <th>3</th>\n",
       "      <td>1</td>\n",
       "      <td>CASH_OUT</td>\n",
       "      <td>181.00</td>\n",
       "      <td>C840083671</td>\n",
       "      <td>181.0</td>\n",
       "      <td>0.00</td>\n",
       "      <td>C38997010</td>\n",
       "      <td>21182.0</td>\n",
       "      <td>0.0</td>\n",
       "      <td>1</td>\n",
       "      <td>0</td>\n",
       "    </tr>\n",
       "    <tr>\n",
       "      <th>4</th>\n",
       "      <td>1</td>\n",
       "      <td>PAYMENT</td>\n",
       "      <td>11668.14</td>\n",
       "      <td>C2048537720</td>\n",
       "      <td>41554.0</td>\n",
       "      <td>29885.86</td>\n",
       "      <td>M1230701703</td>\n",
       "      <td>0.0</td>\n",
       "      <td>0.0</td>\n",
       "      <td>0</td>\n",
       "      <td>0</td>\n",
       "    </tr>\n",
       "  </tbody>\n",
       "</table>\n",
       "</div>"
      ],
      "text/plain": [
       "   step      type    amount     nameOrig  oldbalanceOrg  newbalanceOrig  \\\n",
       "0     1   PAYMENT   9839.64  C1231006815       170136.0       160296.36   \n",
       "1     1   PAYMENT   1864.28  C1666544295        21249.0        19384.72   \n",
       "2     1  TRANSFER    181.00  C1305486145          181.0            0.00   \n",
       "3     1  CASH_OUT    181.00   C840083671          181.0            0.00   \n",
       "4     1   PAYMENT  11668.14  C2048537720        41554.0        29885.86   \n",
       "\n",
       "      nameDest  oldbalanceDest  newbalanceDest  isFraud  isFlaggedFraud  \n",
       "0  M1979787155             0.0             0.0        0               0  \n",
       "1  M2044282225             0.0             0.0        0               0  \n",
       "2   C553264065             0.0             0.0        1               0  \n",
       "3    C38997010         21182.0             0.0        1               0  \n",
       "4  M1230701703             0.0             0.0        0               0  "
      ]
     },
     "execution_count": 4,
     "metadata": {},
     "output_type": "execute_result"
    }
   ],
   "source": [
    "dataframe.head(5)"
   ]
  },
  {
   "cell_type": "markdown",
   "id": "568cb441",
   "metadata": {},
   "source": [
    "#### UNDERSTANDING THE DATASET"
   ]
  },
  {
   "cell_type": "markdown",
   "id": "ff7cf73f",
   "metadata": {},
   "source": [
    "The dataset consists of 10 numerical and 1 non-numerical column. The columns consists of features gotten from customer's online transaction. The features will be explained in points below:\n",
    "- step : represents a unit of time where 1 step represents an hour.\n",
    "- type : online transaction type\n",
    "- amount : transaction amount\n",
    "- nameOrig : customer starting the transaction\n",
    "- oldbalanceOrg : balance before the transaction\n",
    "- newbalanceOrg : balance after the transaction\n",
    "- nameDest : recipient of the transaction\n",
    "- oldbalanceDest : initial balance of recipient before the transaction\n",
    "- newbalanceDest : the new balance of recipient after the transaction\n",
    "- isFraud : this checks if the transaction is fraudlent or not. Where 1 is fraud and 0 is not fraud."
   ]
  },
  {
   "cell_type": "markdown",
   "id": "9e863cea",
   "metadata": {},
   "source": [
    "### DATA PREPROCESSING AND FEATURE SELECTION"
   ]
  },
  {
   "cell_type": "code",
   "execution_count": 5,
   "id": "de33590b",
   "metadata": {
    "scrolled": true
   },
   "outputs": [
    {
     "data": {
      "text/html": [
       "<div>\n",
       "<style scoped>\n",
       "    .dataframe tbody tr th:only-of-type {\n",
       "        vertical-align: middle;\n",
       "    }\n",
       "\n",
       "    .dataframe tbody tr th {\n",
       "        vertical-align: top;\n",
       "    }\n",
       "\n",
       "    .dataframe thead th {\n",
       "        text-align: right;\n",
       "    }\n",
       "</style>\n",
       "<table border=\"1\" class=\"dataframe\">\n",
       "  <thead>\n",
       "    <tr style=\"text-align: right;\">\n",
       "      <th></th>\n",
       "      <th>step</th>\n",
       "      <th>type</th>\n",
       "      <th>amount</th>\n",
       "      <th>nameOrig</th>\n",
       "      <th>oldbalanceOrg</th>\n",
       "      <th>newbalanceOrig</th>\n",
       "      <th>nameDest</th>\n",
       "      <th>oldbalanceDest</th>\n",
       "      <th>newbalanceDest</th>\n",
       "      <th>isFraud</th>\n",
       "      <th>isFlaggedFraud</th>\n",
       "    </tr>\n",
       "  </thead>\n",
       "  <tbody>\n",
       "    <tr>\n",
       "      <th>6362615</th>\n",
       "      <td>743</td>\n",
       "      <td>CASH_OUT</td>\n",
       "      <td>339682.13</td>\n",
       "      <td>C786484425</td>\n",
       "      <td>339682.13</td>\n",
       "      <td>0.0</td>\n",
       "      <td>C776919290</td>\n",
       "      <td>0.00</td>\n",
       "      <td>339682.13</td>\n",
       "      <td>1</td>\n",
       "      <td>0</td>\n",
       "    </tr>\n",
       "    <tr>\n",
       "      <th>6362616</th>\n",
       "      <td>743</td>\n",
       "      <td>TRANSFER</td>\n",
       "      <td>6311409.28</td>\n",
       "      <td>C1529008245</td>\n",
       "      <td>6311409.28</td>\n",
       "      <td>0.0</td>\n",
       "      <td>C1881841831</td>\n",
       "      <td>0.00</td>\n",
       "      <td>0.00</td>\n",
       "      <td>1</td>\n",
       "      <td>0</td>\n",
       "    </tr>\n",
       "    <tr>\n",
       "      <th>6362617</th>\n",
       "      <td>743</td>\n",
       "      <td>CASH_OUT</td>\n",
       "      <td>6311409.28</td>\n",
       "      <td>C1162922333</td>\n",
       "      <td>6311409.28</td>\n",
       "      <td>0.0</td>\n",
       "      <td>C1365125890</td>\n",
       "      <td>68488.84</td>\n",
       "      <td>6379898.11</td>\n",
       "      <td>1</td>\n",
       "      <td>0</td>\n",
       "    </tr>\n",
       "    <tr>\n",
       "      <th>6362618</th>\n",
       "      <td>743</td>\n",
       "      <td>TRANSFER</td>\n",
       "      <td>850002.52</td>\n",
       "      <td>C1685995037</td>\n",
       "      <td>850002.52</td>\n",
       "      <td>0.0</td>\n",
       "      <td>C2080388513</td>\n",
       "      <td>0.00</td>\n",
       "      <td>0.00</td>\n",
       "      <td>1</td>\n",
       "      <td>0</td>\n",
       "    </tr>\n",
       "    <tr>\n",
       "      <th>6362619</th>\n",
       "      <td>743</td>\n",
       "      <td>CASH_OUT</td>\n",
       "      <td>850002.52</td>\n",
       "      <td>C1280323807</td>\n",
       "      <td>850002.52</td>\n",
       "      <td>0.0</td>\n",
       "      <td>C873221189</td>\n",
       "      <td>6510099.11</td>\n",
       "      <td>7360101.63</td>\n",
       "      <td>1</td>\n",
       "      <td>0</td>\n",
       "    </tr>\n",
       "  </tbody>\n",
       "</table>\n",
       "</div>"
      ],
      "text/plain": [
       "         step      type      amount     nameOrig  oldbalanceOrg  \\\n",
       "6362615   743  CASH_OUT   339682.13   C786484425      339682.13   \n",
       "6362616   743  TRANSFER  6311409.28  C1529008245     6311409.28   \n",
       "6362617   743  CASH_OUT  6311409.28  C1162922333     6311409.28   \n",
       "6362618   743  TRANSFER   850002.52  C1685995037      850002.52   \n",
       "6362619   743  CASH_OUT   850002.52  C1280323807      850002.52   \n",
       "\n",
       "         newbalanceOrig     nameDest  oldbalanceDest  newbalanceDest  isFraud  \\\n",
       "6362615             0.0   C776919290            0.00       339682.13        1   \n",
       "6362616             0.0  C1881841831            0.00            0.00        1   \n",
       "6362617             0.0  C1365125890        68488.84      6379898.11        1   \n",
       "6362618             0.0  C2080388513            0.00            0.00        1   \n",
       "6362619             0.0   C873221189      6510099.11      7360101.63        1   \n",
       "\n",
       "         isFlaggedFraud  \n",
       "6362615               0  \n",
       "6362616               0  \n",
       "6362617               0  \n",
       "6362618               0  \n",
       "6362619               0  "
      ]
     },
     "execution_count": 5,
     "metadata": {},
     "output_type": "execute_result"
    }
   ],
   "source": [
    "dataframe.tail()"
   ]
  },
  {
   "cell_type": "markdown",
   "id": "b89393ed",
   "metadata": {},
   "source": [
    "#### CHECKING FOR MISSING VALUES"
   ]
  },
  {
   "cell_type": "code",
   "execution_count": 6,
   "id": "ab88d2f1",
   "metadata": {},
   "outputs": [
    {
     "data": {
      "text/plain": [
       "step              0\n",
       "type              0\n",
       "amount            0\n",
       "nameOrig          0\n",
       "oldbalanceOrg     0\n",
       "newbalanceOrig    0\n",
       "nameDest          0\n",
       "oldbalanceDest    0\n",
       "newbalanceDest    0\n",
       "isFraud           0\n",
       "isFlaggedFraud    0\n",
       "dtype: int64"
      ]
     },
     "execution_count": 6,
     "metadata": {},
     "output_type": "execute_result"
    }
   ],
   "source": [
    "dataframe.isna().sum()"
   ]
  },
  {
   "cell_type": "markdown",
   "id": "83f2ae25",
   "metadata": {},
   "source": [
    "#### CHECKING FOR UNIQUE VALUES IN THE NON-NUMERICAL COLUMN AND ENCODING IT"
   ]
  },
  {
   "cell_type": "code",
   "execution_count": 7,
   "id": "7dc54887",
   "metadata": {},
   "outputs": [
    {
     "data": {
      "text/plain": [
       "array(['PAYMENT', 'TRANSFER', 'CASH_OUT', 'DEBIT', 'CASH_IN'],\n",
       "      dtype=object)"
      ]
     },
     "execution_count": 7,
     "metadata": {},
     "output_type": "execute_result"
    }
   ],
   "source": [
    "dataframe[\"type\"].unique()"
   ]
  },
  {
   "cell_type": "markdown",
   "id": "9f4d5730",
   "metadata": {},
   "source": [
    "#### LABEL ENCODER"
   ]
  },
  {
   "cell_type": "code",
   "execution_count": 8,
   "id": "f9340869",
   "metadata": {},
   "outputs": [],
   "source": [
    "encoder = LabelEncoder()"
   ]
  },
  {
   "cell_type": "code",
   "execution_count": 9,
   "id": "338bc460",
   "metadata": {},
   "outputs": [],
   "source": [
    "dataframe[\"type\"] = encoder.fit_transform(dataframe[\"type\"])"
   ]
  },
  {
   "cell_type": "code",
   "execution_count": 10,
   "id": "1c00dd5b",
   "metadata": {},
   "outputs": [
    {
     "data": {
      "text/html": [
       "<div>\n",
       "<style scoped>\n",
       "    .dataframe tbody tr th:only-of-type {\n",
       "        vertical-align: middle;\n",
       "    }\n",
       "\n",
       "    .dataframe tbody tr th {\n",
       "        vertical-align: top;\n",
       "    }\n",
       "\n",
       "    .dataframe thead th {\n",
       "        text-align: right;\n",
       "    }\n",
       "</style>\n",
       "<table border=\"1\" class=\"dataframe\">\n",
       "  <thead>\n",
       "    <tr style=\"text-align: right;\">\n",
       "      <th></th>\n",
       "      <th>step</th>\n",
       "      <th>type</th>\n",
       "      <th>amount</th>\n",
       "      <th>nameOrig</th>\n",
       "      <th>oldbalanceOrg</th>\n",
       "      <th>newbalanceOrig</th>\n",
       "      <th>nameDest</th>\n",
       "      <th>oldbalanceDest</th>\n",
       "      <th>newbalanceDest</th>\n",
       "      <th>isFraud</th>\n",
       "      <th>isFlaggedFraud</th>\n",
       "    </tr>\n",
       "  </thead>\n",
       "  <tbody>\n",
       "    <tr>\n",
       "      <th>0</th>\n",
       "      <td>1</td>\n",
       "      <td>3</td>\n",
       "      <td>9839.64</td>\n",
       "      <td>C1231006815</td>\n",
       "      <td>170136.0</td>\n",
       "      <td>160296.36</td>\n",
       "      <td>M1979787155</td>\n",
       "      <td>0.0</td>\n",
       "      <td>0.0</td>\n",
       "      <td>0</td>\n",
       "      <td>0</td>\n",
       "    </tr>\n",
       "    <tr>\n",
       "      <th>1</th>\n",
       "      <td>1</td>\n",
       "      <td>3</td>\n",
       "      <td>1864.28</td>\n",
       "      <td>C1666544295</td>\n",
       "      <td>21249.0</td>\n",
       "      <td>19384.72</td>\n",
       "      <td>M2044282225</td>\n",
       "      <td>0.0</td>\n",
       "      <td>0.0</td>\n",
       "      <td>0</td>\n",
       "      <td>0</td>\n",
       "    </tr>\n",
       "    <tr>\n",
       "      <th>2</th>\n",
       "      <td>1</td>\n",
       "      <td>4</td>\n",
       "      <td>181.00</td>\n",
       "      <td>C1305486145</td>\n",
       "      <td>181.0</td>\n",
       "      <td>0.00</td>\n",
       "      <td>C553264065</td>\n",
       "      <td>0.0</td>\n",
       "      <td>0.0</td>\n",
       "      <td>1</td>\n",
       "      <td>0</td>\n",
       "    </tr>\n",
       "    <tr>\n",
       "      <th>3</th>\n",
       "      <td>1</td>\n",
       "      <td>1</td>\n",
       "      <td>181.00</td>\n",
       "      <td>C840083671</td>\n",
       "      <td>181.0</td>\n",
       "      <td>0.00</td>\n",
       "      <td>C38997010</td>\n",
       "      <td>21182.0</td>\n",
       "      <td>0.0</td>\n",
       "      <td>1</td>\n",
       "      <td>0</td>\n",
       "    </tr>\n",
       "    <tr>\n",
       "      <th>4</th>\n",
       "      <td>1</td>\n",
       "      <td>3</td>\n",
       "      <td>11668.14</td>\n",
       "      <td>C2048537720</td>\n",
       "      <td>41554.0</td>\n",
       "      <td>29885.86</td>\n",
       "      <td>M1230701703</td>\n",
       "      <td>0.0</td>\n",
       "      <td>0.0</td>\n",
       "      <td>0</td>\n",
       "      <td>0</td>\n",
       "    </tr>\n",
       "  </tbody>\n",
       "</table>\n",
       "</div>"
      ],
      "text/plain": [
       "   step  type    amount     nameOrig  oldbalanceOrg  newbalanceOrig  \\\n",
       "0     1     3   9839.64  C1231006815       170136.0       160296.36   \n",
       "1     1     3   1864.28  C1666544295        21249.0        19384.72   \n",
       "2     1     4    181.00  C1305486145          181.0            0.00   \n",
       "3     1     1    181.00   C840083671          181.0            0.00   \n",
       "4     1     3  11668.14  C2048537720        41554.0        29885.86   \n",
       "\n",
       "      nameDest  oldbalanceDest  newbalanceDest  isFraud  isFlaggedFraud  \n",
       "0  M1979787155             0.0             0.0        0               0  \n",
       "1  M2044282225             0.0             0.0        0               0  \n",
       "2   C553264065             0.0             0.0        1               0  \n",
       "3    C38997010         21182.0             0.0        1               0  \n",
       "4  M1230701703             0.0             0.0        0               0  "
      ]
     },
     "execution_count": 10,
     "metadata": {},
     "output_type": "execute_result"
    }
   ],
   "source": [
    "# new encoded dataframe\n",
    "dataframe.head()"
   ]
  },
  {
   "cell_type": "markdown",
   "id": "62816949",
   "metadata": {},
   "source": [
    "#### FEATURE EXTRACTION"
   ]
  },
  {
   "cell_type": "markdown",
   "id": "fa3172fe",
   "metadata": {},
   "source": [
    "In any good training pipeline, Festure selection is a critical component in deciding which features will be used as inputs to the model. For many models, a small subset of input variables provide the lion share of predictive ability. It is important to lower the amount of input variables for some reasons such as:\n",
    "- reducing multi collineariry\n",
    "- reducing model training time and compute resources\n",
    "- easy understanding of important points\n",
    "- reduce dimenionality problems\n",
    "\n",
    "Some features in a dataset has little to no input to the predictability and generalizability of a model. In our dataset, we can clearly see that the features which plays little to no effect in the model prediction are:\n",
    "- step, as the timing or time unit has little effect in fraud detection\n",
    "- nameOrig, as the customer name and ID has no effect\n",
    "- nameDest, also the receiver ID has no effect\n",
    "\n",
    "Hence these columns will be dropped from our dataset. In bigger datasets where the features are overly technical, there are statistical features which help in feature extraction such as Chi square and SelectKbest."
   ]
  },
  {
   "cell_type": "markdown",
   "id": "f2cf6bcd",
   "metadata": {},
   "source": [
    "#### DROPPING COLUMNS"
   ]
  },
  {
   "cell_type": "code",
   "execution_count": 11,
   "id": "8f0d13ed",
   "metadata": {},
   "outputs": [],
   "source": [
    "dataframe.drop([\"step\", \"nameOrig\", \"nameDest\"], axis=1, inplace=True)"
   ]
  },
  {
   "cell_type": "markdown",
   "id": "eed7ed2f",
   "metadata": {},
   "source": [
    "#### EXPLORATORY DATA VISUALIZATION"
   ]
  },
  {
   "cell_type": "code",
   "execution_count": 12,
   "id": "62253f09",
   "metadata": {},
   "outputs": [
    {
     "data": {
      "text/plain": [
       "array([[<Axes: title={'center': 'type'}>,\n",
       "        <Axes: title={'center': 'amount'}>,\n",
       "        <Axes: title={'center': 'oldbalanceOrg'}>],\n",
       "       [<Axes: title={'center': 'newbalanceOrig'}>,\n",
       "        <Axes: title={'center': 'oldbalanceDest'}>,\n",
       "        <Axes: title={'center': 'newbalanceDest'}>],\n",
       "       [<Axes: title={'center': 'isFraud'}>,\n",
       "        <Axes: title={'center': 'isFlaggedFraud'}>, <Axes: >]],\n",
       "      dtype=object)"
      ]
     },
     "execution_count": 12,
     "metadata": {},
     "output_type": "execute_result"
    },
    {
     "data": {
      "image/png": "[encoded data removed]",
      "text/plain": [
       "<Figure size 3000x3000 with 9 Axes>"
      ]
     },
     "metadata": {},
     "output_type": "display_data"
    }
   ],
   "source": [
    "dataframe.hist(figsize = (30,30))"
   ]
  },
  {
   "cell_type": "markdown",
   "id": "352b877c",
   "metadata": {},
   "source": [
    "#### VISUALIZING THE LABELS"
   ]
  },
  {
   "cell_type": "code",
   "execution_count": 13,
   "id": "a44c089f",
   "metadata": {},
   "outputs": [],
   "source": [
    "label_counts = dataframe[\"isFraud\"].value_counts()"
   ]
  },
  {
   "cell_type": "code",
   "execution_count": 14,
   "id": "0e09e52f",
   "metadata": {},
   "outputs": [
    {
     "data": {
      "image/png": "[encoded data removed]",
      "text/plain": [
       "<Figure size 500x500 with 1 Axes>"
      ]
     },
     "metadata": {},
     "output_type": "display_data"
    }
   ],
   "source": [
    "plt.figure(figsize=(5,5))\n",
    "plt.pie(label_counts, labels=label_counts.index, autopct=\"%1.1f%%\", startangle=140)\n",
    "plt.title(\"Label distribution\")\n",
    "plt.axis(\"equal\")\n",
    "plt.show()"
   ]
  },
  {
   "cell_type": "code",
   "execution_count": 15,
   "id": "30438529",
   "metadata": {},
   "outputs": [
    {
     "name": "stdout",
     "output_type": "stream",
     "text": [
      "<class 'pandas.core.frame.DataFrame'>\n",
      "RangeIndex: 6362620 entries, 0 to 6362619\n",
      "Data columns (total 8 columns):\n",
      " #   Column          Dtype  \n",
      "---  ------          -----  \n",
      " 0   type            int32  \n",
      " 1   amount          float64\n",
      " 2   oldbalanceOrg   float64\n",
      " 3   newbalanceOrig  float64\n",
      " 4   oldbalanceDest  float64\n",
      " 5   newbalanceDest  float64\n",
      " 6   isFraud         int64  \n",
      " 7   isFlaggedFraud  int64  \n",
      "dtypes: float64(5), int32(1), int64(2)\n",
      "memory usage: 364.1 MB\n"
     ]
    }
   ],
   "source": [
    "# dataframe inofo\n",
    "dataframe.info()"
   ]
  },
  {
   "cell_type": "markdown",
   "id": "c781f712",
   "metadata": {},
   "source": [
    "#### OUTLIER DETECTION"
   ]
  },
  {
   "cell_type": "markdown",
   "id": "df70d75a",
   "metadata": {},
   "source": [
    "Outliers are datapoints that deviates from the other points in a dataset. They lie far away from the central tendency of the distribution. When dealing with tree based models like decision trees and neural networks, the effect of outliers can be overlooked because the tree based models and neural networks are robust to outliers meaning they handle outliers with little to no effect on the output result of the model after training."
   ]
  },
  {
   "cell_type": "code",
   "execution_count": 16,
   "id": "28beb7f1",
   "metadata": {},
   "outputs": [],
   "source": [
    "column = \"isFraud\""
   ]
  },
  {
   "cell_type": "code",
   "execution_count": 17,
   "id": "0e0ebf5f",
   "metadata": {},
   "outputs": [],
   "source": [
    "Q1 = dataframe[column].quantile(0.25)\n",
    "Q3 = dataframe[column].quantile(0.75)"
   ]
  },
  {
   "cell_type": "code",
   "execution_count": 18,
   "id": "aac67a53",
   "metadata": {},
   "outputs": [],
   "source": [
    "inter_quantile_range = Q3 - Q1"
   ]
  },
  {
   "cell_type": "code",
   "execution_count": 19,
   "id": "4f989a17",
   "metadata": {},
   "outputs": [],
   "source": [
    "# define boundaries\n",
    "upper = Q1 - 1.5 * inter_quantile_range\n",
    "lower = Q3 + 1.5 * inter_quantile_range"
   ]
  },
  {
   "cell_type": "code",
   "execution_count": 20,
   "id": "1a88ea3b",
   "metadata": {},
   "outputs": [],
   "source": [
    "# outliers\n",
    "outliers = dataframe[(dataframe[column] < lower) | (dataframe[column] > upper)]"
   ]
  },
  {
   "cell_type": "code",
   "execution_count": 21,
   "id": "e999cd56",
   "metadata": {
    "scrolled": true
   },
   "outputs": [
    {
     "data": {
      "text/html": [
       "<div>\n",
       "<style scoped>\n",
       "    .dataframe tbody tr th:only-of-type {\n",
       "        vertical-align: middle;\n",
       "    }\n",
       "\n",
       "    .dataframe tbody tr th {\n",
       "        vertical-align: top;\n",
       "    }\n",
       "\n",
       "    .dataframe thead th {\n",
       "        text-align: right;\n",
       "    }\n",
       "</style>\n",
       "<table border=\"1\" class=\"dataframe\">\n",
       "  <thead>\n",
       "    <tr style=\"text-align: right;\">\n",
       "      <th></th>\n",
       "      <th>type</th>\n",
       "      <th>amount</th>\n",
       "      <th>oldbalanceOrg</th>\n",
       "      <th>newbalanceOrig</th>\n",
       "      <th>oldbalanceDest</th>\n",
       "      <th>newbalanceDest</th>\n",
       "      <th>isFraud</th>\n",
       "      <th>isFlaggedFraud</th>\n",
       "    </tr>\n",
       "  </thead>\n",
       "  <tbody>\n",
       "    <tr>\n",
       "      <th>2</th>\n",
       "      <td>4</td>\n",
       "      <td>181.00</td>\n",
       "      <td>181.00</td>\n",
       "      <td>0.0</td>\n",
       "      <td>0.00</td>\n",
       "      <td>0.00</td>\n",
       "      <td>1</td>\n",
       "      <td>0</td>\n",
       "    </tr>\n",
       "    <tr>\n",
       "      <th>3</th>\n",
       "      <td>1</td>\n",
       "      <td>181.00</td>\n",
       "      <td>181.00</td>\n",
       "      <td>0.0</td>\n",
       "      <td>21182.00</td>\n",
       "      <td>0.00</td>\n",
       "      <td>1</td>\n",
       "      <td>0</td>\n",
       "    </tr>\n",
       "    <tr>\n",
       "      <th>251</th>\n",
       "      <td>4</td>\n",
       "      <td>2806.00</td>\n",
       "      <td>2806.00</td>\n",
       "      <td>0.0</td>\n",
       "      <td>0.00</td>\n",
       "      <td>0.00</td>\n",
       "      <td>1</td>\n",
       "      <td>0</td>\n",
       "    </tr>\n",
       "    <tr>\n",
       "      <th>252</th>\n",
       "      <td>1</td>\n",
       "      <td>2806.00</td>\n",
       "      <td>2806.00</td>\n",
       "      <td>0.0</td>\n",
       "      <td>26202.00</td>\n",
       "      <td>0.00</td>\n",
       "      <td>1</td>\n",
       "      <td>0</td>\n",
       "    </tr>\n",
       "    <tr>\n",
       "      <th>680</th>\n",
       "      <td>4</td>\n",
       "      <td>20128.00</td>\n",
       "      <td>20128.00</td>\n",
       "      <td>0.0</td>\n",
       "      <td>0.00</td>\n",
       "      <td>0.00</td>\n",
       "      <td>1</td>\n",
       "      <td>0</td>\n",
       "    </tr>\n",
       "    <tr>\n",
       "      <th>...</th>\n",
       "      <td>...</td>\n",
       "      <td>...</td>\n",
       "      <td>...</td>\n",
       "      <td>...</td>\n",
       "      <td>...</td>\n",
       "      <td>...</td>\n",
       "      <td>...</td>\n",
       "      <td>...</td>\n",
       "    </tr>\n",
       "    <tr>\n",
       "      <th>6362615</th>\n",
       "      <td>1</td>\n",
       "      <td>339682.13</td>\n",
       "      <td>339682.13</td>\n",
       "      <td>0.0</td>\n",
       "      <td>0.00</td>\n",
       "      <td>339682.13</td>\n",
       "      <td>1</td>\n",
       "      <td>0</td>\n",
       "    </tr>\n",
       "    <tr>\n",
       "      <th>6362616</th>\n",
       "      <td>4</td>\n",
       "      <td>6311409.28</td>\n",
       "      <td>6311409.28</td>\n",
       "      <td>0.0</td>\n",
       "      <td>0.00</td>\n",
       "      <td>0.00</td>\n",
       "      <td>1</td>\n",
       "      <td>0</td>\n",
       "    </tr>\n",
       "    <tr>\n",
       "      <th>6362617</th>\n",
       "      <td>1</td>\n",
       "      <td>6311409.28</td>\n",
       "      <td>6311409.28</td>\n",
       "      <td>0.0</td>\n",
       "      <td>68488.84</td>\n",
       "      <td>6379898.11</td>\n",
       "      <td>1</td>\n",
       "      <td>0</td>\n",
       "    </tr>\n",
       "    <tr>\n",
       "      <th>6362618</th>\n",
       "      <td>4</td>\n",
       "      <td>850002.52</td>\n",
       "      <td>850002.52</td>\n",
       "      <td>0.0</td>\n",
       "      <td>0.00</td>\n",
       "      <td>0.00</td>\n",
       "      <td>1</td>\n",
       "      <td>0</td>\n",
       "    </tr>\n",
       "    <tr>\n",
       "      <th>6362619</th>\n",
       "      <td>1</td>\n",
       "      <td>850002.52</td>\n",
       "      <td>850002.52</td>\n",
       "      <td>0.0</td>\n",
       "      <td>6510099.11</td>\n",
       "      <td>7360101.63</td>\n",
       "      <td>1</td>\n",
       "      <td>0</td>\n",
       "    </tr>\n",
       "  </tbody>\n",
       "</table>\n",
       "<p>8213 rows × 8 columns</p>\n",
       "</div>"
      ],
      "text/plain": [
       "         type      amount  oldbalanceOrg  newbalanceOrig  oldbalanceDest  \\\n",
       "2           4      181.00         181.00             0.0            0.00   \n",
       "3           1      181.00         181.00             0.0        21182.00   \n",
       "251         4     2806.00        2806.00             0.0            0.00   \n",
       "252         1     2806.00        2806.00             0.0        26202.00   \n",
       "680         4    20128.00       20128.00             0.0            0.00   \n",
       "...       ...         ...            ...             ...             ...   \n",
       "6362615     1   339682.13      339682.13             0.0            0.00   \n",
       "6362616     4  6311409.28     6311409.28             0.0            0.00   \n",
       "6362617     1  6311409.28     6311409.28             0.0        68488.84   \n",
       "6362618     4   850002.52      850002.52             0.0            0.00   \n",
       "6362619     1   850002.52      850002.52             0.0      6510099.11   \n",
       "\n",
       "         newbalanceDest  isFraud  isFlaggedFraud  \n",
       "2                  0.00        1               0  \n",
       "3                  0.00        1               0  \n",
       "251                0.00        1               0  \n",
       "252                0.00        1               0  \n",
       "680                0.00        1               0  \n",
       "...                 ...      ...             ...  \n",
       "6362615       339682.13        1               0  \n",
       "6362616            0.00        1               0  \n",
       "6362617      6379898.11        1               0  \n",
       "6362618            0.00        1               0  \n",
       "6362619      7360101.63        1               0  \n",
       "\n",
       "[8213 rows x 8 columns]"
      ]
     },
     "execution_count": 21,
     "metadata": {},
     "output_type": "execute_result"
    }
   ],
   "source": [
    "outliers"
   ]
  },
  {
   "cell_type": "markdown",
   "id": "feabcb47",
   "metadata": {},
   "source": [
    "#### VISUALIZING THE OUTLIERS"
   ]
  },
  {
   "cell_type": "code",
   "execution_count": 22,
   "id": "ba12eb4d",
   "metadata": {},
   "outputs": [
    {
     "data": {
      "text/plain": [
       "(array([0, 1, 2, 3, 4, 5, 6, 7]),\n",
       " [Text(0, 0, 'type'),\n",
       "  Text(1, 0, 'amount'),\n",
       "  Text(2, 0, 'oldbalanceOrg'),\n",
       "  Text(3, 0, 'newbalanceOrig'),\n",
       "  Text(4, 0, 'oldbalanceDest'),\n",
       "  Text(5, 0, 'newbalanceDest'),\n",
       "  Text(6, 0, 'isFraud'),\n",
       "  Text(7, 0, 'isFlaggedFraud')])"
      ]
     },
     "execution_count": 22,
     "metadata": {},
     "output_type": "execute_result"
    },
    {
     "data": {
      "image/png": "[encoded data removed]",
      "text/plain": [
       "<Figure size 2000x600 with 1 Axes>"
      ]
     },
     "metadata": {},
     "output_type": "display_data"
    }
   ],
   "source": [
    "plt.figure(figsize = (20, 6))\n",
    "sns.boxplot(data = dataframe)\n",
    "\n",
    "plt.title('Plotting Outliers in the dataset using boxplot', weight = \"bold\", fontsize = 25, pad = 15)\n",
    "plt.xlabel('Column features', weight = \"bold\", fontsize = 17)\n",
    "plt.ylabel('Distribution', labelpad = 15, weight = \"bold\", fontsize = 17)\n",
    "\n",
    "plt.xticks(rotation = 45)"
   ]
  },
  {
   "cell_type": "markdown",
   "id": "359effea",
   "metadata": {},
   "source": [
    "#### CORRELATION MATRIX"
   ]
  },
  {
   "cell_type": "code",
   "execution_count": 23,
   "id": "1bd42174",
   "metadata": {},
   "outputs": [],
   "source": [
    "correlation = dataframe.corr()"
   ]
  },
  {
   "cell_type": "code",
   "execution_count": 24,
   "id": "f03aaa52",
   "metadata": {
    "scrolled": true
   },
   "outputs": [
    {
     "data": {
      "image/png": "[encoded data removed]",
      "text/plain": [
       "<Figure size 800x600 with 2 Axes>"
      ]
     },
     "metadata": {},
     "output_type": "display_data"
    }
   ],
   "source": [
    "plt.figure(figsize=(8,6))\n",
    "sns.heatmap(correlation, annot=True, cmap = \"coolwarm\", center = 0)\n",
    "plt.show()"
   ]
  },
  {
   "cell_type": "markdown",
   "id": "797bd471",
   "metadata": {},
   "source": [
    "#### INITIALIZATIONS"
   ]
  },
  {
   "cell_type": "code",
   "execution_count": 25,
   "id": "779b5ac7",
   "metadata": {},
   "outputs": [],
   "source": [
    "# the random seed aids repetition and production of deterministic results \n",
    "# initialization of default training unit to CPU if GPU is not available\n",
    "RANDOM_SEED = 46\n",
    "np.random.seed(RANDOM_SEED)\n",
    "torch.manual_seed(RANDOM_SEED)\n",
    "device = torch.device(\"cuda\" if torch.cuda.is_available() else \"cpu\")\n",
    "BATCH_SIZE = 100"
   ]
  },
  {
   "cell_type": "markdown",
   "id": "095d48e3",
   "metadata": {},
   "source": [
    "### CREATING A CUSTOM DATASET CLASS"
   ]
  },
  {
   "cell_type": "code",
   "execution_count": 26,
   "id": "261a8805",
   "metadata": {},
   "outputs": [],
   "source": [
    "class Fraud_Dataset(Dataset):\n",
    "    def __init__(self, df, column=None, transform=None):\n",
    "        self.df = df\n",
    "        self.X = df.drop(column, axis=1).values.astype(np.float32)  # Convert DataFrame to NumPy array\n",
    "        self.y = df[column].values.astype(np.float32)  # Convert Series to NumPy array\n",
    "        self.transform = transform\n",
    "\n",
    "    def __len__(self):\n",
    "        return len(self.y)\n",
    "\n",
    "    def __getitem__(self, idx):\n",
    "        X = self.X[idx]\n",
    "        y = self.y[idx]\n",
    "\n",
    "        if self.transform:\n",
    "            # Apply the transform on the entire dataset, not a single data point\n",
    "            self.X = self.transform.fit_transform(self.X)\n",
    "            self.y = self.transform.fit_transform(self.y.reshape(-1, 1)).flatten()\n",
    "\n",
    "        X = torch.from_numpy(X).float()\n",
    " \n",
    "        return X, y"
   ]
  },
  {
   "cell_type": "markdown",
   "id": "3619cfcc",
   "metadata": {},
   "source": [
    "#### DEFINING TRANSFORM"
   ]
  },
  {
   "cell_type": "code",
   "execution_count": 27,
   "id": "ec128c74",
   "metadata": {},
   "outputs": [],
   "source": [
    "transform = StandardScaler()"
   ]
  },
  {
   "cell_type": "code",
   "execution_count": 28,
   "id": "48d4663f",
   "metadata": {},
   "outputs": [],
   "source": [
    "dataset = Fraud_Dataset(df=dataframe, column=\"isFraud\", transform=transform)"
   ]
  },
  {
   "cell_type": "code",
   "execution_count": 29,
   "id": "e2858079",
   "metadata": {},
   "outputs": [
    {
     "data": {
      "text/plain": [
       "6362620"
      ]
     },
     "execution_count": 29,
     "metadata": {},
     "output_type": "execute_result"
    }
   ],
   "source": [
    "len(dataset)"
   ]
  },
  {
   "cell_type": "markdown",
   "id": "5312ede7",
   "metadata": {},
   "source": [
    "## DATA SPLITTING AND NORMALIZATION"
   ]
  },
  {
   "cell_type": "markdown",
   "id": "817148c7",
   "metadata": {},
   "source": [
    "In machine learning, data can be inputed in several magnitudes and sometimes it may hinder the model from learning some important data points or features correctly, with such a problem, the need to normalize or standardize our data becomes of utmost importance. Normalization is a technique used to transform the features of a dataset into a common scale, that is to represent the datapoints magnitude within a common range so that the machine learning is not influenced by the disproportional datapoints helping the data to converge faster and perform better."
   ]
  },
  {
   "cell_type": "markdown",
   "id": "74847e36",
   "metadata": {},
   "source": [
    "#### SPLITTIING THE DATASET USING RANDOM SPLIT FOR THE DATASET INSTANCE"
   ]
  },
  {
   "cell_type": "code",
   "execution_count": 30,
   "id": "8f884276",
   "metadata": {},
   "outputs": [],
   "source": [
    "# initialize the train size to 70% of the dataset while the 30% goes for testing and validation\n",
    "train_size = int(0.7 * len(dataset))\n",
    "test_val_size = len(dataset) - train_size"
   ]
  },
  {
   "cell_type": "code",
   "execution_count": 31,
   "id": "d5f44634",
   "metadata": {},
   "outputs": [],
   "source": [
    "# implementing the 70-30% split using random split\n",
    "train_dataset, test_val_dataset = random_split(dataset, [train_size, test_val_size])"
   ]
  },
  {
   "cell_type": "code",
   "execution_count": 32,
   "id": "dfd69440",
   "metadata": {},
   "outputs": [],
   "source": [
    "# split (test_val_set) to get the percentage size for test and validation dataset\n",
    "test_size = test_val_size // 2\n",
    "val_size = test_val_size - test_size"
   ]
  },
  {
   "cell_type": "code",
   "execution_count": 33,
   "id": "22ac0da5",
   "metadata": {},
   "outputs": [],
   "source": [
    "# implementing the test-val size on the remaining 30% of the dataset to get the test dataset and validation dataset using random split\n",
    "test_dataset, val_dataset = random_split(test_val_dataset, [test_size, val_size])"
   ]
  },
  {
   "cell_type": "markdown",
   "id": "2b25a51d",
   "metadata": {},
   "source": [
    "#### CREATING RANDOM SAMPLE FOR DATALOADER SUBSETS"
   ]
  },
  {
   "cell_type": "markdown",
   "id": "61455d0a",
   "metadata": {},
   "source": [
    "#### train dataloader"
   ]
  },
  {
   "cell_type": "code",
   "execution_count": 34,
   "id": "e3872382",
   "metadata": {},
   "outputs": [],
   "source": [
    "subset_size_t = int(0.1 * len(train_dataset))"
   ]
  },
  {
   "cell_type": "code",
   "execution_count": 35,
   "id": "30c3ec55",
   "metadata": {},
   "outputs": [],
   "source": [
    "train_subset, _ = torch.utils.data.random_split(train_dataset, [subset_size_t, len(train_dataset) - subset_size_t])"
   ]
  },
  {
   "cell_type": "markdown",
   "id": "c87dda7d",
   "metadata": {},
   "source": [
    "#### validation dataloader"
   ]
  },
  {
   "cell_type": "code",
   "execution_count": 36,
   "id": "f9b070f9",
   "metadata": {},
   "outputs": [],
   "source": [
    "subset_size_v = int(0.1 * len(val_dataset))"
   ]
  },
  {
   "cell_type": "code",
   "execution_count": 37,
   "id": "28689819",
   "metadata": {},
   "outputs": [],
   "source": [
    "val_subset, _ = torch.utils.data.random_split(val_dataset, [subset_size_v, len(val_dataset) - subset_size_v])"
   ]
  },
  {
   "cell_type": "markdown",
   "id": "c2ac384d",
   "metadata": {},
   "source": [
    "#### test dataloader"
   ]
  },
  {
   "cell_type": "code",
   "execution_count": 38,
   "id": "d233eb89",
   "metadata": {},
   "outputs": [],
   "source": [
    "subset_size_t = int(0.3 * len(test_dataset))"
   ]
  },
  {
   "cell_type": "code",
   "execution_count": 39,
   "id": "fe432b6e",
   "metadata": {},
   "outputs": [],
   "source": [
    "test_subset, _ = torch.utils.data.random_split(test_dataset, [subset_size_t, len(test_dataset) - subset_size_t])"
   ]
  },
  {
   "cell_type": "markdown",
   "id": "1906afa8",
   "metadata": {},
   "source": [
    "#### DATALOADER IMPLEMENTATION"
   ]
  },
  {
   "cell_type": "code",
   "execution_count": 40,
   "id": "4efa60f2",
   "metadata": {},
   "outputs": [],
   "source": [
    "# pytorch dataloader implementation for the train dataloader\n",
    "train_dataloader = DataLoader(train_subset, \n",
    "                              batch_size=BATCH_SIZE, \n",
    "                              shuffle=True,\n",
    "                              )"
   ]
  },
  {
   "cell_type": "code",
   "execution_count": 41,
   "id": "2087e4dd",
   "metadata": {},
   "outputs": [],
   "source": [
    "# pytorch dataloader implementation for the validation dataloader\n",
    "val_dataloader = DataLoader(val_subset, \n",
    "                            batch_size=BATCH_SIZE, \n",
    "                            shuffle=False,\n",
    "                            )"
   ]
  },
  {
   "cell_type": "code",
   "execution_count": 42,
   "id": "f9ebbad7",
   "metadata": {},
   "outputs": [],
   "source": [
    "# pytorch dataloader implementation for the test dataloader\n",
    "test_dataloader = DataLoader(test_subset, \n",
    "                             batch_size=BATCH_SIZE, \n",
    "                             shuffle=False,\n",
    "                             )"
   ]
  },
  {
   "cell_type": "code",
   "execution_count": 43,
   "id": "564d092a",
   "metadata": {},
   "outputs": [],
   "source": [
    "# checking the shape\n",
    "first_batch = next(iter(train_dataloader))"
   ]
  },
  {
   "cell_type": "code",
   "execution_count": null,
   "id": "9fb90fe8",
   "metadata": {},
   "outputs": [],
   "source": [
    "# checking the dimension of the dataloader\n",
    "for batch_idx, (inputs, labels) in enumerate(train_dataloader):\n",
    "    print(f\"Batch {batch_idx + 1}:\")\n",
    "    print(f\"Input shape: {inputs.shape}, Labels shape: {labels.shape}\")\n",
    "    break"
   ]
  },
  {
   "cell_type": "markdown",
   "id": "d4b10137",
   "metadata": {},
   "source": [
    "### CREATING A MULTILAYER PERCEPTRON USING PYTORCH"
   ]
  },
  {
   "cell_type": "code",
   "execution_count": null,
   "id": "644868d7",
   "metadata": {},
   "outputs": [],
   "source": [
    "class MultiLayerPerceptron(nn.Module):\n",
    "    def __init__(self, input_dim, output_dim):\n",
    "        super(MultiLayerPerceptron, self). __init__()\n",
    "        self.layer1 = nn.Linear(input_dim, 32)\n",
    "        self.layer2 = nn.Linear(32, 64)\n",
    "        self.layer3 = nn.Linear(64, 128)\n",
    "        self.dropout = nn.Dropout(0.5)\n",
    "        self.layer4 = nn.Linear(128, output_dim)\n",
    "        \n",
    "    def forward(self, x):\n",
    "        x = torch.relu(self.layer1(x))\n",
    "        x = self.layer2(x)\n",
    "        x = self.layer3(x)\n",
    "        x = self.dropout(x)\n",
    "        x = torch.relu(self.layer4(x))\n",
    "        return x"
   ]
  },
  {
   "cell_type": "markdown",
   "id": "a5664cbd",
   "metadata": {},
   "source": [
    "#### INSTANTIATE A MODEL"
   ]
  },
  {
   "cell_type": "code",
   "execution_count": null,
   "id": "bad54df5",
   "metadata": {},
   "outputs": [],
   "source": [
    "# when performing binary classification, a single output neuron with a sigmoid activation function is used to produce a score between o and 1\n",
    "model = MultiLayerPerceptron(input_dim = inputs.shape[1], output_dim = 1)"
   ]
  },
  {
   "cell_type": "code",
   "execution_count": null,
   "id": "b78107c5",
   "metadata": {},
   "outputs": [],
   "source": [
    "model.to(device)"
   ]
  },
  {
   "cell_type": "markdown",
   "id": "33ef2fb6",
   "metadata": {},
   "source": [
    "#### UTILS"
   ]
  },
  {
   "cell_type": "code",
   "execution_count": null,
   "id": "2bcaf4a2",
   "metadata": {},
   "outputs": [],
   "source": [
    "NUM_EPOCHS = 5\n",
    "batch_size = BATCH_SIZE\n",
    "criterion = nn.MSELoss()\n",
    "learning_rate = 0.0001\n",
    "optimizer = optim.Adam(model.parameters(), lr=learning_rate)"
   ]
  },
  {
   "cell_type": "markdown",
   "id": "0f91852c",
   "metadata": {},
   "source": [
    "#### TRAINING LOOP"
   ]
  },
  {
   "cell_type": "code",
   "execution_count": null,
   "id": "387a4915",
   "metadata": {},
   "outputs": [],
   "source": [
    "# The training loop is a pytorch convention, here the train and validation loaders are trained and tested using early stoppings\n",
    "#Storing the loss and accuracy value for each epoch\n",
    "train_losses = []\n",
    "accuracy_values = []\n",
    "\n",
    "#validation itemization\n",
    "r_val_correct = 0\n",
    "r_val_total = 0\n",
    "r_val_losses = []\n",
    "r_accuracy_val_values = []\n",
    "\n",
    "for epoch in range(NUM_EPOCHS):\n",
    "    train_loss = 0.0\n",
    "    print(f\"Epoch [{epoch+1}/{NUM_EPOCHS}]\")\n",
    "        \n",
    "    #initializing the prediction count to zero before the loop\n",
    "    total = 0\n",
    "    correct = 0\n",
    "        \n",
    "    for batch_idx, (inputs, labels) in tqdm(enumerate(train_dataloader), total = len(train_dataloader)):\n",
    "        #get data to cuda if possible\n",
    "        inputs = inputs.to(device)\n",
    "        labels = labels.to(device)\n",
    "        \n",
    "        #handling the dimension of the target[32], since the input is [32,1]\n",
    "        labels = labels.unsqueeze(1)\n",
    "        \n",
    "        #forward pass\n",
    "        outputs = model(inputs)\n",
    "        loss = criterion(outputs, labels)\n",
    "        \n",
    "        #This code accumulates training loss, stores loss values for each batch\n",
    "        train_loss += loss.item()\n",
    "        train_losses.append(loss.item())\n",
    "        \n",
    "        _, predicted = torch.max(outputs, dim=1)\n",
    "        total += labels.size(0)\n",
    "        correct += (predicted == labels).sum().item()\n",
    "        \n",
    "        #back propagation\n",
    "        loss.backward()\n",
    "        \n",
    "        # gradient descent\n",
    "        optimizer.step()\n",
    "        optimizer.zero_grad()\n",
    "        \n",
    "    epoch_loss = train_loss / num_batches\n",
    "    print('Epoch {} loss: {:.3f}'.format(epoch + 1, epoch_loss))\n",
    "    train_accuracy = 100 * (correct / total)\n",
    "    accuracy_values.append(train_accuracy)\n",
    "    \n",
    "    # validation accuracy\n",
    "    model.eval()\n",
    "    \n",
    "    with torch.no_grad():\n",
    "        val_loss = 0.0\n",
    "        \n",
    "        for batch_idx, (inputs, labels) in tqdm(enumerate(val_dataloader), total = len(val_dataloader)):\n",
    "            inputs = inputs.to(device)\n",
    "            labels = labels.to(device) \n",
    "            \n",
    "            # forward pass\n",
    "            outputs = model(inputs)\n",
    "            loss = criterion(outputs, labels)\n",
    "            \n",
    "            # get loss\n",
    "            val_loss += loss.item()\n",
    "            val_losses.append(loss.item())\n",
    "            \n",
    "            # get prediction\n",
    "            _, predicted = torch.max(outputs, dim=1)\n",
    "            val_total += labels.size(0)\n",
    "            val_correct += (predicted == labels).sum().item()\n",
    "        \n",
    "        # Calculate the average validation loss after the loop\n",
    "        val_loss /= len(val_dataloader)\n",
    "        \n",
    "        # Check improvement\n",
    "        if val_loss < best_val_loss:\n",
    "            best_val_loss = val_loss\n",
    "            current_patience = 0\n",
    "        else:\n",
    "            current_patience += 1\n",
    "   \n",
    "        # Print accuracy and check for early stopping\n",
    "        val_accuracy = 100 * (val_correct / val_total)\n",
    "        # store accuracy values\n",
    "        accuracy_val_values.append(val_accuracy)\n",
    "        # store validation loss outside the loop\n",
    "        val_losses.append(val_loss)\n",
    "        \n",
    "        print(f\"Epoch {epoch + 1}, Training Accuracy: {train_accuracy:.2f}%, Validation Accuracy: {val_accuracy:.2f}%, Loss: {epoch_loss:.4f}, Validation Loss: {val_loss:.4f}\")\n",
    "\n",
    "        # If early stopping criteria met\n",
    "        if current_patience >= patience:\n",
    "            print(f\"Early stopping after {epoch + 1} epochs.\")\n",
    "            break"
   ]
  },
  {
   "cell_type": "markdown",
   "id": "b5c6883c",
   "metadata": {},
   "source": [
    "#### TESTING"
   ]
  },
  {
   "cell_type": "code",
   "execution_count": null,
   "id": "7f7754d6",
   "metadata": {},
   "outputs": [],
   "source": [
    "test_loss = 0.0\n",
    "correct = 0\n",
    "total = 0\n",
    "all_predictions = []\n",
    "all_labels = []\n",
    "\n",
    "model.eval()\n",
    "with torch.no_grad():\n",
    "    test_loss = 0.0\n",
    "    for inputs, labels in test_dataloader:\n",
    "        inputs = inputs.to(device)\n",
    "        labels = labels.to(device)\n",
    "        \n",
    "        # forward pass\n",
    "        outputs = model(inputs)\n",
    "        loss = criterion(outputs, labels)\n",
    "\n",
    "        # get loss\n",
    "        test_loss += loss.item()\n",
    "        #test_losses.append(test_loss)\n",
    "        test_losses.append(loss.item())\n",
    "\n",
    "        # get prediction\n",
    "        _, predicted = torch.max(outputs, dim=1)\n",
    "        total_samples += labels.size(0)\n",
    "\n",
    "        # calculate accuracy\n",
    "        correct_pred += (predicted == labels).sum()\n",
    "\n",
    "        # get predicted and actual labels\n",
    "        all_predictions.extend(predicted.cpu().numpy())\n",
    "        all_labels.extend(labels.cpu().numpy())\n",
    "\n",
    "test_loss /= len(test_dataloader.dataset)\n",
    "accuracy = correct_pred / total_samples\n",
    "\n",
    "# view loss and accuracy\n",
    "print(\"Test Loss: {:.3f} | Accuracy: {:.3f}\".format(test_loss, accuracy))"
   ]
  },
  {
   "cell_type": "markdown",
   "id": "42b09bff",
   "metadata": {},
   "source": [
    "#### CHECKING OTHER EVALUATION METRICS FOR MULTILAYER PERCEPTRON"
   ]
  },
  {
   "cell_type": "code",
   "execution_count": null,
   "id": "d9048ea8",
   "metadata": {},
   "outputs": [],
   "source": [
    "# these are gotten from the sklearn library\n",
    "accuracy = accuracy_score(all_labels, all_predictions)\n",
    "precision = precision_score(all_labels, all_predictions, average = \"weighted\")\n",
    "recall = recall_score(all_labels, all_predictions, average = \"weighted\")\n",
    "f1 = f1_score(all_labels, all_predictions, average = \"weighted\")"
   ]
  },
  {
   "cell_type": "markdown",
   "id": "415dffaa",
   "metadata": {},
   "source": [
    "#### MLP RESULTS"
   ]
  },
  {
   "cell_type": "code",
   "execution_count": null,
   "id": "b1871551",
   "metadata": {},
   "outputs": [],
   "source": [
    "print(f\"Accuracy: {accuracy:.3f}, precision: {precision:.3f}, recall: {recall:.3f}, F1: {f1:.3f}\")"
   ]
  },
  {
   "cell_type": "markdown",
   "id": "95a793de",
   "metadata": {},
   "source": [
    "#### MLP CLASSIFICATION REPORT"
   ]
  },
  {
   "cell_type": "code",
   "execution_count": null,
   "id": "5064995e",
   "metadata": {},
   "outputs": [],
   "source": [
    "report = classification_report(all_labels, all_predictions)\n",
    "print(report)"
   ]
  },
  {
   "cell_type": "markdown",
   "id": "d0cfcc39",
   "metadata": {},
   "source": [
    "#### RESULT VISUALIZATIONS"
   ]
  },
  {
   "cell_type": "markdown",
   "id": "140a1831",
   "metadata": {},
   "source": [
    "#### CONFUSION MATRIX"
   ]
  },
  {
   "cell_type": "code",
   "execution_count": null,
   "id": "eb95f13a",
   "metadata": {},
   "outputs": [],
   "source": [
    "c_matrix = confusion_matrix(all_labels, all_predictions)\n",
    "c_matrix_percentage = c_matrix.astype(\"float\") / c_matrix.sum(axis=1)[:, np.newaxis]\n",
    "plt.figure(figsize=(8, 6))\n",
    "sns.heatmap(c_matrix_percentage, annot=True, cmap=\"Blues\", fmt=\".2%\", cbar=True)\n",
    "plt.title(\"CONFUSION MATRIX\")\n",
    "plt.ylabel(\"True label\")\n",
    "plt.xlabel(\"predicted label\")\n",
    "plt.show()"
   ]
  },
  {
   "cell_type": "code",
   "execution_count": null,
   "id": "d1023954",
   "metadata": {},
   "outputs": [],
   "source": [
    "# plot loss progress\n",
    "plt.title(\"Training Loss trends for CNN model\")\n",
    "plt.plot(c_train_losses, label = \"Training loss\")\n",
    "plt.ylabel(\"Loss\")\n",
    "plt.xlabel(\"Training Epochs\")\n",
    "plt.legend()\n",
    "plt.grid(True)\n",
    "plt.show()"
   ]
  },
  {
   "cell_type": "code",
   "execution_count": null,
   "id": "054274f1",
   "metadata": {},
   "outputs": [],
   "source": [
    "# plot accuracy progress\n",
    "plt.title(\"Training Accuracy trends for CNN model\")\n",
    "plt.plot(c_accuracy_values, label = \"Training Accuracy\")\n",
    "plt.ylabel(\"Accuracy\")\n",
    "plt.xlabel(\"Training Epochs\")\n",
    "plt.legend()\n",
    "plt.grid(True)\n",
    "plt.show()"
   ]
  },
  {
   "cell_type": "markdown",
   "id": "1c318de6",
   "metadata": {},
   "source": [
    "#### ROC CURVE"
   ]
  },
  {
   "cell_type": "code",
   "execution_count": null,
   "id": "3fb835fa",
   "metadata": {},
   "outputs": [],
   "source": [
    "fp, tp, thresholds = roc_curve(all_labels, all_predictions)\n",
    "roc_auc = roc_auc_score(all_labels, all_predictions)\n",
    "plt.figure()\n",
    "plt.plot(fp, tp, color=\"blue\", lw=2, label=\"roc curve (AUC = {:.2f})\".format(roc_auc))\n",
    "plt.plot([0, 1], [0, 1], color=\"orange\", lw=2, linestyle=\"--\")\n",
    "plt.xlabel(\"False Positive\")\n",
    "plt.ylabel(\"True Positive\")\n",
    "plt.title(\"roc curve\")\n",
    "plt.legend()\n",
    "plt.show()"
   ]
  }
 ],
 "metadata": {
  "kernelspec": {
   "display_name": "Python 3 (ipykernel)",
   "language": "python",
   "name": "python3"
  },
  "language_info": {
   "codemirror_mode": {
    "name": "ipython",
    "version": 3
   },
   "file_extension": ".py",
   "mimetype": "text/x-python",
   "name": "python",
   "nbconvert_exporter": "python",
   "pygments_lexer": "ipython3",
   "version": "3.10.9"
  }
 },
 "nbformat": 4,
 "nbformat_minor": 5
}
